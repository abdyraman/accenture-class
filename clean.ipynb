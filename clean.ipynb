{
 "cells": [
  {
   "cell_type": "code",
   "execution_count": 5,
   "id": "3071b115",
   "metadata": {},
   "outputs": [],
   "source": [
    "import pandas as pd\n"
   ]
  },
  {
   "cell_type": "code",
   "execution_count": 7,
   "id": "c7aa02a4",
   "metadata": {},
   "outputs": [],
   "source": [
    "# Reading the dataframes\n",
    "df_Content = pd.read_csv(\"Content.csv\")\n",
    "df_Reactions = pd.read_csv(\"Reactions.csv\")\n",
    "df_ReactionsTypes = pd.read_csv(\"ReactionTypes.csv\")"
   ]
  },
  {
   "cell_type": "markdown",
   "id": "d32ea03a",
   "metadata": {},
   "source": [
    "# Exploring the data"
   ]
  },
  {
   "cell_type": "code",
   "execution_count": 29,
   "id": "4241fe13",
   "metadata": {},
   "outputs": [
    {
     "data": {
      "text/html": [
       "<div>\n",
       "<style scoped>\n",
       "    .dataframe tbody tr th:only-of-type {\n",
       "        vertical-align: middle;\n",
       "    }\n",
       "\n",
       "    .dataframe tbody tr th {\n",
       "        vertical-align: top;\n",
       "    }\n",
       "\n",
       "    .dataframe thead th {\n",
       "        text-align: right;\n",
       "    }\n",
       "</style>\n",
       "<table border=\"1\" class=\"dataframe\">\n",
       "  <thead>\n",
       "    <tr style=\"text-align: right;\">\n",
       "      <th></th>\n",
       "      <th>Unnamed: 0</th>\n",
       "      <th>Content ID</th>\n",
       "      <th>User ID</th>\n",
       "      <th>Type</th>\n",
       "      <th>Category</th>\n",
       "      <th>URL</th>\n",
       "    </tr>\n",
       "  </thead>\n",
       "  <tbody>\n",
       "    <tr>\n",
       "      <th>779</th>\n",
       "      <td>779</td>\n",
       "      <td>f65dbde9-c8dc-4851-927e-964fa2e0908a</td>\n",
       "      <td>a6f003be-b0fd-4100-b4cc-f568a21b9745</td>\n",
       "      <td>video</td>\n",
       "      <td>education</td>\n",
       "      <td>https://socialbuzz.cdn.com/content/storage/f65...</td>\n",
       "    </tr>\n",
       "    <tr>\n",
       "      <th>61</th>\n",
       "      <td>61</td>\n",
       "      <td>5fbbdd47-e1ca-4cd4-bb24-dd0eb03f99b0</td>\n",
       "      <td>6ecb39b1-8f85-44f1-b2f3-0cffcba4d731</td>\n",
       "      <td>video</td>\n",
       "      <td>culture</td>\n",
       "      <td>https://socialbuzz.cdn.com/content/storage/5fb...</td>\n",
       "    </tr>\n",
       "    <tr>\n",
       "      <th>766</th>\n",
       "      <td>766</td>\n",
       "      <td>37331f8d-4fc5-42f6-a367-e59ccde67c45</td>\n",
       "      <td>a1a9c0bd-785a-478f-a19e-9eb48fae0bd6</td>\n",
       "      <td>audio</td>\n",
       "      <td>soccer</td>\n",
       "      <td>https://socialbuzz.cdn.com/content/storage/373...</td>\n",
       "    </tr>\n",
       "    <tr>\n",
       "      <th>997</th>\n",
       "      <td>997</td>\n",
       "      <td>435007a5-6261-4d8b-b0a4-55fdc189754b</td>\n",
       "      <td>35d6a1f3-e358-4d4b-8074-05f3b7f35c2a</td>\n",
       "      <td>audio</td>\n",
       "      <td>veganism</td>\n",
       "      <td>https://socialbuzz.cdn.com/content/storage/435...</td>\n",
       "    </tr>\n",
       "    <tr>\n",
       "      <th>517</th>\n",
       "      <td>517</td>\n",
       "      <td>2073855c-fab2-41ee-ad15-d4269b2ac4bd</td>\n",
       "      <td>6053d7e5-47da-4156-8b7c-dacf23a0e660</td>\n",
       "      <td>audio</td>\n",
       "      <td>education</td>\n",
       "      <td>https://socialbuzz.cdn.com/content/storage/207...</td>\n",
       "    </tr>\n",
       "  </tbody>\n",
       "</table>\n",
       "</div>"
      ],
      "text/plain": [
       "     Unnamed: 0                            Content ID  \\\n",
       "779         779  f65dbde9-c8dc-4851-927e-964fa2e0908a   \n",
       "61           61  5fbbdd47-e1ca-4cd4-bb24-dd0eb03f99b0   \n",
       "766         766  37331f8d-4fc5-42f6-a367-e59ccde67c45   \n",
       "997         997  435007a5-6261-4d8b-b0a4-55fdc189754b   \n",
       "517         517  2073855c-fab2-41ee-ad15-d4269b2ac4bd   \n",
       "\n",
       "                                  User ID   Type   Category  \\\n",
       "779  a6f003be-b0fd-4100-b4cc-f568a21b9745  video  education   \n",
       "61   6ecb39b1-8f85-44f1-b2f3-0cffcba4d731  video    culture   \n",
       "766  a1a9c0bd-785a-478f-a19e-9eb48fae0bd6  audio     soccer   \n",
       "997  35d6a1f3-e358-4d4b-8074-05f3b7f35c2a  audio   veganism   \n",
       "517  6053d7e5-47da-4156-8b7c-dacf23a0e660  audio  education   \n",
       "\n",
       "                                                   URL  \n",
       "779  https://socialbuzz.cdn.com/content/storage/f65...  \n",
       "61   https://socialbuzz.cdn.com/content/storage/5fb...  \n",
       "766  https://socialbuzz.cdn.com/content/storage/373...  \n",
       "997  https://socialbuzz.cdn.com/content/storage/435...  \n",
       "517  https://socialbuzz.cdn.com/content/storage/207...  "
      ]
     },
     "execution_count": 29,
     "metadata": {},
     "output_type": "execute_result"
    }
   ],
   "source": [
    "df_Content.sample(5)\n",
    "# df_Content.dtypes"
   ]
  },
  {
   "cell_type": "code",
   "execution_count": 19,
   "id": "9e10f356",
   "metadata": {},
   "outputs": [
    {
     "data": {
      "text/plain": [
       "Unnamed: 0     int64\n",
       "Content ID    object\n",
       "User ID       object\n",
       "Type          object\n",
       "Datetime      object\n",
       "dtype: object"
      ]
     },
     "execution_count": 19,
     "metadata": {},
     "output_type": "execute_result"
    }
   ],
   "source": [
    "df_Reactions.sample(5)\n",
    "df_Reactions.dtypes"
   ]
  },
  {
   "cell_type": "code",
   "execution_count": 20,
   "id": "5166e79a",
   "metadata": {},
   "outputs": [
    {
     "data": {
      "text/plain": [
       "Unnamed: 0     int64\n",
       "Type          object\n",
       "Sentiment     object\n",
       "Score          int64\n",
       "dtype: object"
      ]
     },
     "execution_count": 20,
     "metadata": {},
     "output_type": "execute_result"
    }
   ],
   "source": [
    "df_ReactionsTypes.sample(5)\n",
    "df_ReactionsTypes.dtypes"
   ]
  },
  {
   "cell_type": "markdown",
   "id": "6cd3c3fb",
   "metadata": {},
   "source": [
    "# Cheking the missing values"
   ]
  },
  {
   "cell_type": "code",
   "execution_count": 13,
   "id": "77293c21",
   "metadata": {},
   "outputs": [
    {
     "data": {
      "text/plain": [
       "Unnamed: 0      0\n",
       "Content ID      0\n",
       "User ID         0\n",
       "Type            0\n",
       "Category        0\n",
       "URL           199\n",
       "dtype: int64"
      ]
     },
     "execution_count": 13,
     "metadata": {},
     "output_type": "execute_result"
    }
   ],
   "source": [
    "df_Content.isna().sum()"
   ]
  },
  {
   "cell_type": "code",
   "execution_count": 15,
   "id": "55cbd5bd",
   "metadata": {},
   "outputs": [
    {
     "data": {
      "text/plain": [
       "Unnamed: 0       0\n",
       "Content ID       0\n",
       "User ID       3019\n",
       "Type           980\n",
       "Datetime         0\n",
       "dtype: int64"
      ]
     },
     "execution_count": 15,
     "metadata": {},
     "output_type": "execute_result"
    }
   ],
   "source": [
    "df_Reactions.isna().sum()"
   ]
  },
  {
   "cell_type": "code",
   "execution_count": 16,
   "id": "faf005c8",
   "metadata": {},
   "outputs": [
    {
     "data": {
      "text/plain": [
       "Unnamed: 0    0\n",
       "Type          0\n",
       "Sentiment     0\n",
       "Score         0\n",
       "dtype: int64"
      ]
     },
     "execution_count": 16,
     "metadata": {},
     "output_type": "execute_result"
    }
   ],
   "source": [
    "df_ReactionsTypes.isna().sum()"
   ]
  },
  {
   "cell_type": "code",
   "execution_count": 25,
   "id": "80baa41a",
   "metadata": {},
   "outputs": [],
   "source": [
    "#Removing rows that have values which are missing\n",
    "df_Content_cleaned=df_Content.dropna()\n",
    "df_Reactions_cleaned=df_Reactions.dropna()\n",
    "df_ReactionsTypes_cleaned=df_ReactionsTypes.dropna()"
   ]
  },
  {
   "cell_type": "code",
   "execution_count": 28,
   "id": "75b3f4b3",
   "metadata": {},
   "outputs": [
    {
     "data": {
      "text/plain": [
       "Unnamed: 0    0\n",
       "Content ID    0\n",
       "User ID       0\n",
       "Type          0\n",
       "Category      0\n",
       "URL           0\n",
       "dtype: int64"
      ]
     },
     "execution_count": 28,
     "metadata": {},
     "output_type": "execute_result"
    }
   ],
   "source": [
    "#Checking the missing values\n",
    "# df_Content_cleaned.isna().sum()\n",
    "# df_ReactionsTypes_cleaned.isna().sum()\n",
    "# df_ReactionsTypes_cleaned.isna().sum()"
   ]
  },
  {
   "cell_type": "markdown",
   "id": "eec1c084",
   "metadata": {},
   "source": [
    "# Changing the data type of some values within a column, andremoving columns which are not relevant to this task."
   ]
  },
  {
   "cell_type": "code",
   "execution_count": null,
   "id": "198f5e81",
   "metadata": {},
   "outputs": [],
   "source": []
  }
 ],
 "metadata": {
  "kernelspec": {
   "display_name": "Python 3 (ipykernel)",
   "language": "python",
   "name": "python3"
  },
  "language_info": {
   "codemirror_mode": {
    "name": "ipython",
    "version": 3
   },
   "file_extension": ".py",
   "mimetype": "text/x-python",
   "name": "python",
   "nbconvert_exporter": "python",
   "pygments_lexer": "ipython3",
   "version": "3.9.13"
  }
 },
 "nbformat": 4,
 "nbformat_minor": 5
}
