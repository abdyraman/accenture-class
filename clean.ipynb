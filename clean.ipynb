{
 "cells": [
  {
   "cell_type": "code",
   "execution_count": 91,
   "id": "3ace9d1d",
   "metadata": {},
   "outputs": [],
   "source": [
    "import pandas as pd\n"
   ]
  },
  {
   "cell_type": "code",
   "execution_count": 92,
   "id": "75b10b9f",
   "metadata": {},
   "outputs": [],
   "source": [
    "# Reading the dataframes\n",
    "df_Content = pd.read_csv(\"Content.csv\")\n",
    "df_Reactions = pd.read_csv(\"Reactions.csv\")\n",
    "df_ReactionsTypes = pd.read_csv(\"ReactionTypes.csv\")"
   ]
  },
  {
   "cell_type": "markdown",
   "id": "d88c5854",
   "metadata": {},
   "source": [
    "# Exploring the data"
   ]
  },
  {
   "cell_type": "code",
   "execution_count": 93,
   "id": "c1251782",
   "metadata": {},
   "outputs": [
    {
     "data": {
      "text/html": [
       "<div>\n",
       "<style scoped>\n",
       "    .dataframe tbody tr th:only-of-type {\n",
       "        vertical-align: middle;\n",
       "    }\n",
       "\n",
       "    .dataframe tbody tr th {\n",
       "        vertical-align: top;\n",
       "    }\n",
       "\n",
       "    .dataframe thead th {\n",
       "        text-align: right;\n",
       "    }\n",
       "</style>\n",
       "<table border=\"1\" class=\"dataframe\">\n",
       "  <thead>\n",
       "    <tr style=\"text-align: right;\">\n",
       "      <th></th>\n",
       "      <th>Unnamed: 0</th>\n",
       "      <th>Content ID</th>\n",
       "      <th>User ID</th>\n",
       "      <th>Type</th>\n",
       "      <th>Category</th>\n",
       "      <th>URL</th>\n",
       "    </tr>\n",
       "  </thead>\n",
       "  <tbody>\n",
       "    <tr>\n",
       "      <th>2</th>\n",
       "      <td>2</td>\n",
       "      <td>230c4e4d-70c3-461d-b42c-ec09396efb3f</td>\n",
       "      <td>a5c65404-5894-4b87-82f2-d787cbee86b4</td>\n",
       "      <td>photo</td>\n",
       "      <td>healthy eating</td>\n",
       "      <td>https://socialbuzz.cdn.com/content/storage/230...</td>\n",
       "    </tr>\n",
       "    <tr>\n",
       "      <th>191</th>\n",
       "      <td>191</td>\n",
       "      <td>bac28166-5b8d-4f5d-88da-8c8f9a1c3f5b</td>\n",
       "      <td>f9ecf6a2-8402-43b3-bf22-8cd54394ea02</td>\n",
       "      <td>video</td>\n",
       "      <td>food</td>\n",
       "      <td>https://socialbuzz.cdn.com/content/storage/bac...</td>\n",
       "    </tr>\n",
       "    <tr>\n",
       "      <th>942</th>\n",
       "      <td>942</td>\n",
       "      <td>d347afb6-c092-4301-ba7d-4c59d10142cb</td>\n",
       "      <td>8d67b1c4-cd76-4701-a908-738e7a2411e7</td>\n",
       "      <td>photo</td>\n",
       "      <td>tennis</td>\n",
       "      <td>https://socialbuzz.cdn.com/content/storage/d34...</td>\n",
       "    </tr>\n",
       "    <tr>\n",
       "      <th>484</th>\n",
       "      <td>484</td>\n",
       "      <td>2e84726a-e69f-44e8-ac0f-c4a31516e342</td>\n",
       "      <td>19fa2bc2-96ab-45b6-99de-1995c2bee330</td>\n",
       "      <td>video</td>\n",
       "      <td>dogs</td>\n",
       "      <td>https://socialbuzz.cdn.com/content/storage/2e8...</td>\n",
       "    </tr>\n",
       "    <tr>\n",
       "      <th>15</th>\n",
       "      <td>15</td>\n",
       "      <td>7ffd0a82-4a0a-4527-a4d6-e251b756bac7</td>\n",
       "      <td>425b7021-0409-4358-af39-2bff14197d0a</td>\n",
       "      <td>GIF</td>\n",
       "      <td>fitness</td>\n",
       "      <td>NaN</td>\n",
       "    </tr>\n",
       "  </tbody>\n",
       "</table>\n",
       "</div>"
      ],
      "text/plain": [
       "     Unnamed: 0                            Content ID  \\\n",
       "2             2  230c4e4d-70c3-461d-b42c-ec09396efb3f   \n",
       "191         191  bac28166-5b8d-4f5d-88da-8c8f9a1c3f5b   \n",
       "942         942  d347afb6-c092-4301-ba7d-4c59d10142cb   \n",
       "484         484  2e84726a-e69f-44e8-ac0f-c4a31516e342   \n",
       "15           15  7ffd0a82-4a0a-4527-a4d6-e251b756bac7   \n",
       "\n",
       "                                  User ID   Type        Category  \\\n",
       "2    a5c65404-5894-4b87-82f2-d787cbee86b4  photo  healthy eating   \n",
       "191  f9ecf6a2-8402-43b3-bf22-8cd54394ea02  video            food   \n",
       "942  8d67b1c4-cd76-4701-a908-738e7a2411e7  photo          tennis   \n",
       "484  19fa2bc2-96ab-45b6-99de-1995c2bee330  video            dogs   \n",
       "15   425b7021-0409-4358-af39-2bff14197d0a    GIF         fitness   \n",
       "\n",
       "                                                   URL  \n",
       "2    https://socialbuzz.cdn.com/content/storage/230...  \n",
       "191  https://socialbuzz.cdn.com/content/storage/bac...  \n",
       "942  https://socialbuzz.cdn.com/content/storage/d34...  \n",
       "484  https://socialbuzz.cdn.com/content/storage/2e8...  \n",
       "15                                                 NaN  "
      ]
     },
     "execution_count": 93,
     "metadata": {},
     "output_type": "execute_result"
    }
   ],
   "source": [
    "df_Content.sample(5)\n",
    "# df_Content.dtypes"
   ]
  },
  {
   "cell_type": "code",
   "execution_count": 94,
   "id": "a0fa2484",
   "metadata": {},
   "outputs": [
    {
     "data": {
      "text/plain": [
       "Unnamed: 0     int64\n",
       "Content ID    object\n",
       "User ID       object\n",
       "Type          object\n",
       "Datetime      object\n",
       "dtype: object"
      ]
     },
     "execution_count": 94,
     "metadata": {},
     "output_type": "execute_result"
    }
   ],
   "source": [
    "df_Reactions.sample(5)\n",
    "df_Reactions.dtypes"
   ]
  },
  {
   "cell_type": "code",
   "execution_count": 107,
   "id": "acf8493a",
   "metadata": {},
   "outputs": [
    {
     "data": {
      "text/html": [
       "<div>\n",
       "<style scoped>\n",
       "    .dataframe tbody tr th:only-of-type {\n",
       "        vertical-align: middle;\n",
       "    }\n",
       "\n",
       "    .dataframe tbody tr th {\n",
       "        vertical-align: top;\n",
       "    }\n",
       "\n",
       "    .dataframe thead th {\n",
       "        text-align: right;\n",
       "    }\n",
       "</style>\n",
       "<table border=\"1\" class=\"dataframe\">\n",
       "  <thead>\n",
       "    <tr style=\"text-align: right;\">\n",
       "      <th></th>\n",
       "      <th>Unnamed: 0</th>\n",
       "      <th>Type</th>\n",
       "      <th>Sentiment</th>\n",
       "      <th>Score</th>\n",
       "    </tr>\n",
       "  </thead>\n",
       "  <tbody>\n",
       "    <tr>\n",
       "      <th>2</th>\n",
       "      <td>2</td>\n",
       "      <td>disgust</td>\n",
       "      <td>negative</td>\n",
       "      <td>0</td>\n",
       "    </tr>\n",
       "    <tr>\n",
       "      <th>11</th>\n",
       "      <td>11</td>\n",
       "      <td>dislike</td>\n",
       "      <td>negative</td>\n",
       "      <td>10</td>\n",
       "    </tr>\n",
       "    <tr>\n",
       "      <th>14</th>\n",
       "      <td>14</td>\n",
       "      <td>scared</td>\n",
       "      <td>negative</td>\n",
       "      <td>15</td>\n",
       "    </tr>\n",
       "    <tr>\n",
       "      <th>1</th>\n",
       "      <td>1</td>\n",
       "      <td>want</td>\n",
       "      <td>positive</td>\n",
       "      <td>70</td>\n",
       "    </tr>\n",
       "    <tr>\n",
       "      <th>13</th>\n",
       "      <td>13</td>\n",
       "      <td>peeking</td>\n",
       "      <td>neutral</td>\n",
       "      <td>35</td>\n",
       "    </tr>\n",
       "  </tbody>\n",
       "</table>\n",
       "</div>"
      ],
      "text/plain": [
       "    Unnamed: 0     Type Sentiment  Score\n",
       "2            2  disgust  negative      0\n",
       "11          11  dislike  negative     10\n",
       "14          14   scared  negative     15\n",
       "1            1     want  positive     70\n",
       "13          13  peeking   neutral     35"
      ]
     },
     "execution_count": 107,
     "metadata": {},
     "output_type": "execute_result"
    }
   ],
   "source": [
    "df_ReactionsTypes.sample(5)\n",
    "# df_ReactionsTypes.dtypes"
   ]
  },
  {
   "cell_type": "markdown",
   "id": "1d7461cd",
   "metadata": {},
   "source": [
    "# Cheking the missing values"
   ]
  },
  {
   "cell_type": "code",
   "execution_count": 96,
   "id": "0ef54cb6",
   "metadata": {},
   "outputs": [
    {
     "data": {
      "text/plain": [
       "Unnamed: 0      0\n",
       "Content ID      0\n",
       "User ID         0\n",
       "Type            0\n",
       "Category        0\n",
       "URL           199\n",
       "dtype: int64"
      ]
     },
     "execution_count": 96,
     "metadata": {},
     "output_type": "execute_result"
    }
   ],
   "source": [
    "df_Content.isna().sum()"
   ]
  },
  {
   "cell_type": "code",
   "execution_count": 97,
   "id": "9dfe5652",
   "metadata": {},
   "outputs": [
    {
     "data": {
      "text/plain": [
       "Unnamed: 0       0\n",
       "Content ID       0\n",
       "User ID       3019\n",
       "Type           980\n",
       "Datetime         0\n",
       "dtype: int64"
      ]
     },
     "execution_count": 97,
     "metadata": {},
     "output_type": "execute_result"
    }
   ],
   "source": [
    "df_Reactions.isna().sum()"
   ]
  },
  {
   "cell_type": "code",
   "execution_count": 98,
   "id": "a8cbc5b2",
   "metadata": {},
   "outputs": [
    {
     "data": {
      "text/plain": [
       "Unnamed: 0    0\n",
       "Type          0\n",
       "Sentiment     0\n",
       "Score         0\n",
       "dtype: int64"
      ]
     },
     "execution_count": 98,
     "metadata": {},
     "output_type": "execute_result"
    }
   ],
   "source": [
    "df_ReactionsTypes.isna().sum()"
   ]
  },
  {
   "cell_type": "code",
   "execution_count": 99,
   "id": "4e1f486d",
   "metadata": {},
   "outputs": [],
   "source": [
    "#Removing rows that have values which are missing\n",
    "df_Content_cleaned=df_Content.dropna()\n",
    "df_Reactions_cleaned=df_Reactions.dropna()\n",
    "df_ReactionsTypes_cleaned=df_ReactionsTypes.dropna()"
   ]
  },
  {
   "cell_type": "markdown",
   "id": "4d173cba",
   "metadata": {},
   "source": [
    "# Duplicate values"
   ]
  },
  {
   "cell_type": "code",
   "execution_count": 100,
   "id": "7374d747",
   "metadata": {},
   "outputs": [
    {
     "data": {
      "text/plain": [
       "0"
      ]
     },
     "execution_count": 100,
     "metadata": {},
     "output_type": "execute_result"
    }
   ],
   "source": [
    "#Checking the duplicate values\n",
    "df_Content_cleaned.duplicated().sum()\n",
    "df_ReactionsTypes_cleaned.duplicated().sum()\n",
    "df_ReactionsTypes_cleaned.duplicated().sum()"
   ]
  },
  {
   "cell_type": "code",
   "execution_count": 101,
   "id": "ddec05c9",
   "metadata": {},
   "outputs": [
    {
     "name": "stderr",
     "output_type": "stream",
     "text": [
      "/var/folders/xq/xdbqztz92zs24q39hvzwj65m0000gn/T/ipykernel_17459/3483506809.py:6: SettingWithCopyWarning: \n",
      "A value is trying to be set on a copy of a slice from a DataFrame.\n",
      "Try using .loc[row_indexer,col_indexer] = value instead\n",
      "\n",
      "See the caveats in the documentation: https://pandas.pydata.org/pandas-docs/stable/user_guide/indexing.html#returning-a-view-versus-a-copy\n",
      "  df_Content_cleaned[column] = df_Content_cleaned[column].str.replace('\"', '')\n"
     ]
    }
   ],
   "source": [
    "# Iterate over each column in the DataFrame\n",
    "for column in df_Content_cleaned.columns:\n",
    "    # Check if the column contains string values\n",
    "    if df_Content_cleaned[column].dtype == 'O':  # 'O' represents object (strings)\n",
    "        # Replace double quotes in the column\n",
    "        df_Content_cleaned[column] = df_Content_cleaned[column].str.replace('\"', '')\n"
   ]
  },
  {
   "cell_type": "code",
   "execution_count": 104,
   "id": "bd645a7f",
   "metadata": {},
   "outputs": [],
   "source": [
    "# Iterate over each column in the DataFrame\n",
    "for column in df_ReactionsTypes_cleaned.columns:\n",
    "    # Check if the column contains string values\n",
    "    if df_ReactionsTypes_cleaned[column].dtype == 'O':  # 'O' represents object (strings)\n",
    "        # Replace double quotes in the column\n",
    "        df_ReactionsTypes_cleaned[column] = df_ReactionsTypes[column].str.replace('\"', '')\n",
    "\n"
   ]
  },
  {
   "cell_type": "code",
   "execution_count": 106,
   "id": "1a88a4c0",
   "metadata": {},
   "outputs": [
    {
     "data": {
      "text/plain": [
       "0"
      ]
     },
     "execution_count": 106,
     "metadata": {},
     "output_type": "execute_result"
    }
   ],
   "source": [
    "df_ReactionsTypes_cleaned.duplicated().sum()"
   ]
  },
  {
   "cell_type": "markdown",
   "id": "eb3ebcbb",
   "metadata": {},
   "source": [
    "# Changing the data type of some values within a column, and removing columns which are not relevant to this task."
   ]
  },
  {
   "cell_type": "code",
   "execution_count": 84,
   "id": "e7c530d8",
   "metadata": {},
   "outputs": [],
   "source": [
    "#Removing columns\n",
    "df_Content_final=df_Content_cleaned[[\"Content ID\",\"Type\",\"Category\",\"URL\"]]\n",
    "df_Reactions_final=df_Reactions_cleaned[[\"Content ID\" ,\"Type\",\"Datetime\"]]\n",
    "df_ReactionsTypes_final=df_ReactionsTypes_cleaned[[\"Type\",\"Sentiment\",\"Score\"]]"
   ]
  },
  {
   "cell_type": "code",
   "execution_count": 76,
   "id": "afc4a289",
   "metadata": {},
   "outputs": [
    {
     "data": {
      "text/plain": [
       "Type         object\n",
       "Sentiment    object\n",
       "Score         int64\n",
       "dtype: object"
      ]
     },
     "execution_count": 76,
     "metadata": {},
     "output_type": "execute_result"
    }
   ],
   "source": [
    "#Checking the dtypes\n",
    "df_Content_final.dtypes\n",
    "df_Reactions_final.dtypes\n",
    "df_ReactionsTypes_final.dtypes"
   ]
  },
  {
   "cell_type": "code",
   "execution_count": 78,
   "id": "db7b48bf",
   "metadata": {},
   "outputs": [
    {
     "data": {
      "text/plain": [
       "Type        object\n",
       "Datetime    object\n",
       "dtype: object"
      ]
     },
     "execution_count": 78,
     "metadata": {},
     "output_type": "execute_result"
    }
   ],
   "source": [
    "df_Reactions_final.dtypes"
   ]
  },
  {
   "cell_type": "code",
   "execution_count": 80,
   "id": "9aa64d13",
   "metadata": {},
   "outputs": [],
   "source": [
    "# Create a copy of the DataFrame\n",
    "df_Reactions_final_copy = df_Reactions_final.copy()\n",
    "# Modify the copy\n",
    "df_Reactions_final_copy['Datetime'] = pd.to_datetime(df_Reactions_final_copy['Datetime'])\n"
   ]
  },
  {
   "cell_type": "code",
   "execution_count": 81,
   "id": "f4ae4c27",
   "metadata": {},
   "outputs": [
    {
     "data": {
      "text/plain": [
       "Type                object\n",
       "Datetime    datetime64[ns]\n",
       "dtype: object"
      ]
     },
     "execution_count": 81,
     "metadata": {},
     "output_type": "execute_result"
    }
   ],
   "source": [
    "df_Reactions_final_copy.dtypes"
   ]
  },
  {
   "cell_type": "code",
   "execution_count": null,
   "id": "0fc54b7c",
   "metadata": {},
   "outputs": [],
   "source": []
  }
 ],
 "metadata": {
  "kernelspec": {
   "display_name": "Python 3 (ipykernel)",
   "language": "python",
   "name": "python3"
  },
  "language_info": {
   "codemirror_mode": {
    "name": "ipython",
    "version": 3
   },
   "file_extension": ".py",
   "mimetype": "text/x-python",
   "name": "python",
   "nbconvert_exporter": "python",
   "pygments_lexer": "ipython3",
   "version": "3.9.13"
  }
 },
 "nbformat": 4,
 "nbformat_minor": 5
}
